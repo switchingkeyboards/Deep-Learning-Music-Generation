{
  "nbformat": 4,
  "nbformat_minor": 0,
  "metadata": {
    "colab": {
      "name": "GANSynth",
      "provenance": [],
      "collapsed_sections": [],
      "toc_visible": true
    },
    "kernelspec": {
      "name": "python3",
      "display_name": "Python 3"
    },
    "language_info": {
      "name": "python"
    }
  },
  "cells": [
    {
      "cell_type": "code",
      "execution_count": 1,
      "metadata": {
        "colab": {
          "base_uri": "https://localhost:8080/"
        },
        "id": "96NUIgVPGWbJ",
        "outputId": "8f9b663e-1b48-4e62-e9cd-08f04db31f56"
      },
      "outputs": [
        {
          "output_type": "stream",
          "name": "stdout",
          "text": [
            "  % Total    % Received % Xferd  Average Speed   Time    Time     Time  Current\n",
            "                                 Dload  Upload   Total   Spent    Left  Speed\n",
            "100  6952  100  6952    0     0  16205      0 --:--:-- --:--:-- --:--:-- 16167\n"
          ]
        }
      ],
      "source": [
        " !rm -r /content/gansynth &>/dev/null\n",
        " !mkdir /content/gansynth\n",
        " !mkdir /content/gansynth/midi\n",
        " !mkdir /content/gansynth/samples\n",
        " # Load default MIDI (Bach Prelude)\n",
        " #’curl’ command enables fetching a given URL \n",
        "#  !curl -o /content/gansynth/midi/bach.mid http://www.jsbach.net/midi/cs1-1pre.mid \n",
        "!curl -o /content/gansynth/midi/bach.mid http://www.jsbach.net/midi/1080-c01.mid"
      ]
    },
    {
      "cell_type": "code",
      "source": [
        " SONG = '/content/gansynth/midi/bach.mid'\n",
        " !curl -o /content/gansynth/midi/riff-default.mid http://storage.googleapis.com/magentadata/papers/gansynth/midi/arp.mid\n",
        " RIFF = '/content/gansynth/midi/riff-default.mid'\n",
        " !pip install -q -U magenta"
      ],
      "metadata": {
        "colab": {
          "base_uri": "https://localhost:8080/"
        },
        "id": "elyyqMWnjaGs",
        "outputId": "0974b0fe-e1f5-4651-88f3-7f90d7ad3dd9"
      },
      "execution_count": 2,
      "outputs": [
        {
          "output_type": "stream",
          "name": "stdout",
          "text": [
            "  % Total    % Received % Xferd  Average Speed   Time    Time     Time  Current\n",
            "                                 Dload  Upload   Total   Spent    Left  Speed\n",
            "100  1083  100  1083    0     0   3332      0 --:--:-- --:--:-- --:--:--  3332\n",
            "\u001b[K     |████████████████████████████████| 1.4 MB 15.5 MB/s \n",
            "\u001b[K     |████████████████████████████████| 5.6 MB 15.8 MB/s \n",
            "\u001b[K     |████████████████████████████████| 254 kB 43.1 MB/s \n",
            "\u001b[K     |████████████████████████████████| 210 kB 43.4 MB/s \n",
            "\u001b[K     |████████████████████████████████| 3.6 MB 42.7 MB/s \n",
            "\u001b[K     |████████████████████████████████| 69 kB 5.3 MB/s \n",
            "\u001b[K     |████████████████████████████████| 204 kB 21.9 MB/s \n",
            "\u001b[K     |████████████████████████████████| 90 kB 4.4 MB/s \n",
            "\u001b[K     |████████████████████████████████| 1.4 MB 36.5 MB/s \n",
            "\u001b[K     |████████████████████████████████| 2.3 MB 33.9 MB/s \n",
            "\u001b[K     |████████████████████████████████| 1.6 MB 43.2 MB/s \n",
            "\u001b[K     |████████████████████████████████| 352 kB 45.0 MB/s \n",
            "\u001b[K     |████████████████████████████████| 20.2 MB 1.4 MB/s \n",
            "\u001b[K     |████████████████████████████████| 981 kB 43.9 MB/s \n",
            "\u001b[K     |████████████████████████████████| 385 kB 46.3 MB/s \n",
            "\u001b[K     |████████████████████████████████| 367 kB 44.1 MB/s \n",
            "\u001b[K     |████████████████████████████████| 5.8 MB 31.4 MB/s \n",
            "\u001b[K     |████████████████████████████████| 48 kB 4.3 MB/s \n",
            "\u001b[K     |████████████████████████████████| 193 kB 65.6 MB/s \n",
            "\u001b[K     |████████████████████████████████| 1.1 MB 40.1 MB/s \n",
            "\u001b[K     |████████████████████████████████| 79 kB 5.9 MB/s \n",
            "\u001b[K     |████████████████████████████████| 251 kB 51.4 MB/s \n",
            "\u001b[K     |████████████████████████████████| 191 kB 50.9 MB/s \n",
            "\u001b[K     |████████████████████████████████| 191 kB 47.6 MB/s \n",
            "\u001b[K     |████████████████████████████████| 178 kB 56.2 MB/s \n",
            "\u001b[K     |████████████████████████████████| 462 kB 54.6 MB/s \n",
            "\u001b[?25h  Building wheel for librosa (setup.py) ... \u001b[?25l\u001b[?25hdone\n",
            "  Building wheel for mir-eval (setup.py) ... \u001b[?25l\u001b[?25hdone\n",
            "  Building wheel for pretty-midi (setup.py) ... \u001b[?25l\u001b[?25hdone\n",
            "  Building wheel for pygtrie (setup.py) ... \u001b[?25l\u001b[?25hdone\n",
            "  Building wheel for python-rtmidi (setup.py) ... \u001b[?25l\u001b[?25hdone\n",
            "  Building wheel for bz2file (setup.py) ... \u001b[?25l\u001b[?25hdone\n"
          ]
        }
      ]
    },
    {
      "cell_type": "code",
      "source": [
        " import os\n",
        " from google.colab import files \n",
        " import librosa\n",
        " from magenta.models.nsynth.utils import load_audio\n",
        " from magenta.models.gansynth.lib import flags as lib_flags\n",
        " from magenta.models.gansynth.lib import generate_util as gu\n",
        " from magenta.models.gansynth.lib import model as lib_model\n",
        " from magenta.models.gansynth.lib import util\n",
        " import matplotlib.pyplot as plt\n",
        " import note_seq\n",
        " from note_seq.notebook_utils import colab_play as play\n",
        " import numpy as np\n",
        " import tensorflow.compat.v1 as tf\n",
        " tf.disable_v2_behavior()"
      ],
      "metadata": {
        "id": "wFMKklnKjkCo",
        "colab": {
          "base_uri": "https://localhost:8080/"
        },
        "outputId": "3e626eed-c79c-4e77-d5ba-97f783caea0d"
      },
      "execution_count": 3,
      "outputs": [
        {
          "output_type": "stream",
          "name": "stderr",
          "text": [
            "/usr/local/lib/python3.7/dist-packages/librosa/util/decorators.py:9: NumbaDeprecationWarning: An import was requested from a module that has moved location.\n",
            "Import requested from: 'numba.decorators', please update to use 'numba.core.decorators' or pin to Numba version 0.48.0. This alias will not be present in Numba version 0.50.0.\n",
            "  from numba.decorators import jit as optional_jit\n",
            "/usr/local/lib/python3.7/dist-packages/librosa/util/decorators.py:9: NumbaDeprecationWarning: An import was requested from a module that has moved location.\n",
            "Import of 'jit' requested from: 'numba.decorators', please update to use 'numba.core.decorators' or pin to Numba version 0.48.0. This alias will not be present in Numba version 0.50.0.\n",
            "  from numba.decorators import jit as optional_jit\n"
          ]
        },
        {
          "output_type": "stream",
          "name": "stdout",
          "text": [
            "WARNING:tensorflow:From /usr/local/lib/python3.7/dist-packages/tensorflow_gan/python/estimator/tpu_gan_estimator.py:42: The name tf.estimator.tpu.TPUEstimator is deprecated. Please use tf.compat.v1.estimator.tpu.TPUEstimator instead.\n",
            "\n",
            "WARNING:tensorflow:From /usr/local/lib/python3.7/dist-packages/tensorflow/python/compat/v2_compat.py:107: disable_resource_variables (from tensorflow.python.ops.variable_scope) is deprecated and will be removed in a future version.\n",
            "Instructions for updating:\n",
            "non-resource variables are not supported in the long term\n"
          ]
        }
      ]
    },
    {
      "cell_type": "code",
      "source": [
        "def upload():\n",
        "   map = files.upload()\n",
        "   list = []\n",
        "   for key, val in map.iteritems():\n",
        "     filename = os.path.join('/content/gansynth/midi', key)\n",
        "     with open(filename, 'w') as file:\n",
        "       file.write(val) \n",
        "       print('Writing the file {}'.format(filename))\n",
        "       list.append(filename)\n",
        "   return list"
      ],
      "metadata": {
        "id": "SCK9l2ZzVXRY"
      },
      "execution_count": 4,
      "outputs": []
    },
    {
      "cell_type": "code",
      "source": [
        "CHECKPOINT_DIR = 'gs://magentadata/models/gansynth/acoustic_only'\n",
        "OP_DIR = '/content/gansynth/samples'\n",
        "BATCH_SIZE = 16\n",
        "SR = 16000"
      ],
      "metadata": {
        "id": "RVltxeo9VktV"
      },
      "execution_count": 5,
      "outputs": []
    },
    {
      "cell_type": "code",
      "source": [
        "OP_DIR = util.expand_path(OP_DIR)\n",
        "if not tf.gfile.Exists(OP_DIR):\n",
        "  tf.gfile.MakeDirs(OP_DIR) "
      ],
      "metadata": {
        "id": "hH9K-tkwVpBr"
      },
      "execution_count": 6,
      "outputs": []
    },
    {
      "cell_type": "code",
      "source": [
        "tf.reset_default_graph() \n",
        "myflags = lib_flags.Flags({\n",
        "     'batchSizeSchedule': [BATCH_SIZE],\n",
        "     'tfds_data_dir': \"gs://tfds-data/datasets\",\n",
        "})\n",
        "model = lib_model.Model.load_from_path(CHECKPOINT_DIR, myflags)"
      ],
      "metadata": {
        "colab": {
          "base_uri": "https://localhost:8080/"
        },
        "id": "o0yeeyCuVx4k",
        "outputId": "1f6c083b-4998-4aa4-f28d-e0456a3fea69"
      },
      "execution_count": 7,
      "outputs": [
        {
          "output_type": "stream",
          "name": "stdout",
          "text": [
            "\tadam_beta1: 0.0\n",
            "\tadam_beta2: 0.99\n",
            "\taudio_length: 64000\n",
            "\tbatchSizeSchedule: [16]\n",
            "\tbatch_size_schedule: [8]\n",
            "\td_fn: specgram\n",
            "\tdata_normalizer: specgrams_prespecified_normalizer\n",
            "\tdata_type: mel\n",
            "\tdataset_name: nsynth_tfds\n",
            "\tdebug_hook: False\n",
            "\tdiscriminator_ac_loss_weight: 10.0\n",
            "\tdiscriminator_learning_rate: 0.0008\n",
            "\tfake_batch_size: 61\n",
            "\tfmap_base: 4096\n",
            "\tfmap_decay: 1.0\n",
            "\tfmap_max: 256\n",
            "\tg_fn: specgram\n",
            "\tgan:\n",
            "\tgen_gl_consistency_loss_weight: 0.0\n",
            "\tgenerator_ac_loss_weight: 10.0\n",
            "\tgenerator_learning_rate: 0.0008\n",
            "\tgradient_penalty_target: 1.0\n",
            "\tgradient_penalty_weight: 10.0\n",
            "\tkernel_size: 3\n",
            "\tlatent_vector_size: 256\n",
            "\tmag_normalizer_a: 0.0661371661726\n",
            "\tmag_normalizer_b: 0.113718730221\n",
            "\tmaster: \n",
            "\tnormalizer_margin: 0.8\n",
            "\tnormalizer_num_examples: 1000\n",
            "\tnum_resolutions: 7\n",
            "\tp_normalizer_a: 0.8\n",
            "\tp_normalizer_b: 0.0\n",
            "\tps_tasks: 0\n",
            "\treal_score_penalty_weight: 0.001\n",
            "\tsample_rate: 16000\n",
            "\tsave_summaries_num_images: 10000\n",
            "\tscale_base: 2\n",
            "\tscale_mode: ALL\n",
            "\tsimple_arch: False\n",
            "\tstable_stage_num_images: 800000\n",
            "\tstart_height: 2\n",
            "\tstart_width: 16\n",
            "\ttask: 0\n",
            "\ttfds_data_dir: gs://tfds-data/datasets\n",
            "\tto_rgb_activation: tanh\n",
            "\ttotal_num_images: 11000000\n",
            "\ttrain_data_path: /tmp/gansynth/nsynth-train.tfrecord\n",
            "\ttrain_progressive: True\n",
            "\ttrain_root_dir: gs://magentadata/models/gansynth/acoustic_only\n",
            "\ttrain_time_limit: None\n",
            "\ttrain_time_stage_multiplier: 1.0\n",
            "\ttransition_stage_num_images: 800000\n",
            "Load model from gs://magentadata/models/gansynth/acoustic_only/stage_00012/model.ckpt-11000000\n",
            "WARNING:tensorflow:From /usr/local/lib/python3.7/dist-packages/tensorflow/python/util/dispatch.py:1082: to_float (from tensorflow.python.ops.math_ops) is deprecated and will be removed in a future version.\n",
            "Instructions for updating:\n",
            "Use `tf.cast` instead.\n"
          ]
        },
        {
          "output_type": "stream",
          "name": "stderr",
          "text": [
            "WARNING:tensorflow:From /usr/local/lib/python3.7/dist-packages/tensorflow/python/util/dispatch.py:1082: to_float (from tensorflow.python.ops.math_ops) is deprecated and will be removed in a future version.\n",
            "Instructions for updating:\n",
            "Use `tf.cast` instead.\n"
          ]
        },
        {
          "output_type": "stream",
          "name": "stdout",
          "text": [
            "WARNING:tensorflow:From /usr/local/lib/python3.7/dist-packages/tensorflow/python/util/dispatch.py:1082: to_int32 (from tensorflow.python.ops.math_ops) is deprecated and will be removed in a future version.\n",
            "Instructions for updating:\n",
            "Use `tf.cast` instead.\n"
          ]
        },
        {
          "output_type": "stream",
          "name": "stderr",
          "text": [
            "WARNING:tensorflow:From /usr/local/lib/python3.7/dist-packages/tensorflow/python/util/dispatch.py:1082: to_int32 (from tensorflow.python.ops.math_ops) is deprecated and will be removed in a future version.\n",
            "Instructions for updating:\n",
            "Use `tf.cast` instead.\n"
          ]
        },
        {
          "output_type": "stream",
          "name": "stdout",
          "text": [
            "WARNING:tensorflow:From /usr/local/lib/python3.7/dist-packages/tensorflow/python/util/dispatch.py:1082: multinomial (from tensorflow.python.ops.random_ops) is deprecated and will be removed in a future version.\n",
            "Instructions for updating:\n",
            "Use `tf.random.categorical` instead.\n"
          ]
        },
        {
          "output_type": "stream",
          "name": "stderr",
          "text": [
            "WARNING:tensorflow:From /usr/local/lib/python3.7/dist-packages/tensorflow/python/util/dispatch.py:1082: multinomial (from tensorflow.python.ops.random_ops) is deprecated and will be removed in a future version.\n",
            "Instructions for updating:\n",
            "Use `tf.random.categorical` instead.\n",
            "/usr/local/lib/python3.7/dist-packages/tensorflow/python/keras/legacy_tf_layers/core.py:332: UserWarning: `tf.layers.flatten` is deprecated and will be removed in a future version. Please use `tf.keras.layers.Flatten` instead.\n",
            "  warnings.warn('`tf.layers.flatten` is deprecated and '\n",
            "/usr/local/lib/python3.7/dist-packages/tensorflow/python/keras/engine/base_layer_v1.py:1694: UserWarning: `layer.apply` is deprecated and will be removed in a future version. Please use `layer.__call__` method instead.\n",
            "  warnings.warn('`layer.apply` is deprecated and '\n",
            "/usr/local/lib/python3.7/dist-packages/magenta/models/gansynth/lib/layers.py:284: UserWarning: `tf.layers.conv2d` is deprecated and will be removed in a future version. Please Use `tf.keras.layers.Conv2D` instead.\n",
            "  kernel_initializer=kernel_initializer)\n",
            "/usr/local/lib/python3.7/dist-packages/keras/legacy_tf_layers/convolutional.py:575: UserWarning: `layer.apply` is deprecated and will be removed in a future version. Please use `layer.__call__` method instead.\n",
            "  return layer.apply(inputs)\n",
            "/usr/local/lib/python3.7/dist-packages/magenta/models/gansynth/lib/layers.py:323: UserWarning: `tf.layers.flatten` is deprecated and will be removed in a future version. Please use `tf.keras.layers.Flatten` instead.\n",
            "  x = tf.layers.flatten(x)\n",
            "/usr/local/lib/python3.7/dist-packages/keras/legacy_tf_layers/core.py:541: UserWarning: `layer.apply` is deprecated and will be removed in a future version. Please use `layer.__call__` method instead.\n",
            "  return layer.apply(inputs)\n",
            "/usr/local/lib/python3.7/dist-packages/magenta/models/gansynth/lib/layers.py:330: UserWarning: `tf.layers.dense` is deprecated and will be removed in a future version. Please use `tf.keras.layers.Dense` instead.\n",
            "  kernel_initializer=kernel_initializer)\n",
            "/usr/local/lib/python3.7/dist-packages/keras/legacy_tf_layers/core.py:261: UserWarning: `layer.apply` is deprecated and will be removed in a future version. Please use `layer.__call__` method instead.\n",
            "  return layer.apply(inputs)\n",
            "/usr/local/lib/python3.7/dist-packages/magenta/models/gansynth/lib/network_functions.py:75: UserWarning: `tf.layers.flatten` is deprecated and will be removed in a future version. Please use `tf.keras.layers.Flatten` instead.\n",
            "  x = tf.layers.flatten(end_points['last_conv'])\n"
          ]
        },
        {
          "output_type": "stream",
          "name": "stdout",
          "text": [
            "WARNING:tensorflow:From /usr/local/lib/python3.7/dist-packages/tensorflow_gan/python/contrib_utils.py:56: _colocate_with (from tensorflow.python.framework.ops) is deprecated and will be removed in a future version.\n",
            "Instructions for updating:\n",
            "Colocations handled automatically by placer.\n"
          ]
        },
        {
          "output_type": "stream",
          "name": "stderr",
          "text": [
            "WARNING:tensorflow:From /usr/local/lib/python3.7/dist-packages/tensorflow_gan/python/contrib_utils.py:56: _colocate_with (from tensorflow.python.framework.ops) is deprecated and will be removed in a future version.\n",
            "Instructions for updating:\n",
            "Colocations handled automatically by placer.\n"
          ]
        },
        {
          "output_type": "stream",
          "name": "stdout",
          "text": [
            "WARNING:tensorflow:From /usr/local/lib/python3.7/dist-packages/tensorflow/python/training/moving_averages.py:548: Variable.initialized_value (from tensorflow.python.ops.variables) is deprecated and will be removed in a future version.\n",
            "Instructions for updating:\n",
            "Use Variable.read_value. Variables in 2.X are initialized automatically both in eager and graph (inside tf.defun) contexts.\n"
          ]
        },
        {
          "output_type": "stream",
          "name": "stderr",
          "text": [
            "WARNING:tensorflow:From /usr/local/lib/python3.7/dist-packages/tensorflow/python/training/moving_averages.py:548: Variable.initialized_value (from tensorflow.python.ops.variables) is deprecated and will be removed in a future version.\n",
            "Instructions for updating:\n",
            "Use Variable.read_value. Variables in 2.X are initialized automatically both in eager and graph (inside tf.defun) contexts.\n"
          ]
        },
        {
          "output_type": "stream",
          "name": "stdout",
          "text": [
            "INFO:tensorflow:Restoring parameters from gs://magentadata/models/gansynth/acoustic_only/stage_00012/model.ckpt-11000000\n"
          ]
        },
        {
          "output_type": "stream",
          "name": "stderr",
          "text": [
            "INFO:tensorflow:Restoring parameters from gs://magentadata/models/gansynth/acoustic_only/stage_00012/model.ckpt-11000000\n"
          ]
        }
      ]
    },
    {
      "cell_type": "code",
      "source": [
        " def midiLoad(path, minimumPitch=36, maximumPitch=84):\n",
        "   midiPath = util.expand_path(path)\n",
        "   noteSequence = note_seq.midi_file_to_sequence_proto(midiPath)\n",
        "   pitches = np.array([n.pitch for n in noteSequence.notes])\n",
        "   velo = np.array([nt.velocity for nt in noteSequence.notes])\n",
        "   startTimes = np.array([nt.start_time for nt in \n",
        "   noteSequence.notes])\n",
        "   endTimes = np.array([nt.end_time for nt in noteSequence.notes])\n",
        "   valid = np.logical_and(pitches >= minimumPitch, pitches <= \n",
        "   maximumPitch)\n",
        "   notes = {'pitches': pitches[valid],\n",
        "            'velocities': velo[valid],\n",
        "            'startTimes': startTimes[valid],\n",
        "            'endTimes': endTimes[valid]}\n",
        "   return noteSequence, notes"
      ],
      "metadata": {
        "id": "-2_fXLg7W4Tf"
      },
      "execution_count": 8,
      "outputs": []
    },
    {
      "cell_type": "code",
      "source": [
        "def createEnvelope(note_length, attack=0.010, release=0.3, sr=16000): \n",
        "   note_len = min(note_length, 3.0)\n",
        "   attack = int(sr * attack)\n",
        "   sustain = int(sr * note_len)\n",
        "   release = int(sr * release)\n",
        "   total = sustain + release\n",
        "   env = np.ones(total)\n",
        "   env[:attack] = np.linspace(0.0, 1.0, attack)\n",
        "   env[sustain:total] = np.linspace(1.0, 0.0, release)\n",
        "   return env "
      ],
      "metadata": {
        "id": "oBvzXtaYW9AB"
      },
      "execution_count": 9,
      "outputs": []
    },
    {
      "cell_type": "code",
      "source": [
        "def spectrogram(audioClip):\n",
        "   min = np.min(36)\n",
        "   max = np.max(84)\n",
        "   minF = librosa.midi_to_hz(min)\n",
        "   maxF = 2 * librosa.midi_to_hz(max)\n",
        "   octaves = int(np.ceil(np.log2(maxF) - np.log2(minF)))    \n",
        "   binsPerOctave = 36\n",
        "   nBins = int(binsPerOctave * octaves)\n",
        "   C = librosa.cqt(audioClip, sr=SR, hop_length=2048, fmin=minF,     \n",
        "   n_bins=nBins, bins_per_octave=binsPerOctave)\n",
        "   power = 10 * np.log10(np.abs(C)**2 + 1e-6)\n",
        "   plt.matshow(power[::-1, 2:-2], aspect='auto', cmap=plt.cm.magma)\n",
        "   plt.yticks([])\n",
        "   plt.xticks([])"
      ],
      "metadata": {
        "id": "TeHOtsiPXKQs"
      },
      "execution_count": 10,
      "outputs": []
    },
    {
      "cell_type": "code",
      "source": [
        "midi_file = \"Arpeggio (Default)\""
      ],
      "metadata": {
        "id": "24AIpxcCXRct"
      },
      "execution_count": 11,
      "outputs": []
    },
    {
      "cell_type": "code",
      "source": [
        " midi_path = RIFF\n",
        " if midi_file == \"Upload your own\":\n",
        "   try:\n",
        "     fileList = upload()\n",
        "     midi_path = fileList[0]\n",
        "     noteSeqence, notes = midiLoad(midi_path)\n",
        "   except Exception as e:\n",
        "     print('Upload Cancelled')\n",
        " else:\n",
        "   noteSequence, notes = midiLoad(midi_path)\n",
        "   notes['startTimes'] *= 1.3\n",
        "   notes['endTimes'] *= 1.3\n",
        " note_seq.plot_sequence(noteSequence) "
      ],
      "metadata": {
        "colab": {
          "base_uri": "https://localhost:8080/",
          "height": 217
        },
        "id": "Zon1iHM2XStk",
        "outputId": "717bbdb8-8027-4624-c2e4-d7b8bfff45d2"
      },
      "execution_count": 12,
      "outputs": [
        {
          "output_type": "display_data",
          "data": {
            "application/javascript": [
              "\n",
              "(function(root) {\n",
              "  function now() {\n",
              "    return new Date();\n",
              "  }\n",
              "\n",
              "  var force = true;\n",
              "\n",
              "  if (typeof root._bokeh_onload_callbacks === \"undefined\" || force === true) {\n",
              "    root._bokeh_onload_callbacks = [];\n",
              "    root._bokeh_is_loading = undefined;\n",
              "  }\n",
              "\n",
              "  var JS_MIME_TYPE = 'application/javascript';\n",
              "  var HTML_MIME_TYPE = 'text/html';\n",
              "  var EXEC_MIME_TYPE = 'application/vnd.bokehjs_exec.v0+json';\n",
              "  var CLASS_NAME = 'output_bokeh rendered_html';\n",
              "\n",
              "  /**\n",
              "   * Render data to the DOM node\n",
              "   */\n",
              "  function render(props, node) {\n",
              "    var script = document.createElement(\"script\");\n",
              "    node.appendChild(script);\n",
              "  }\n",
              "\n",
              "  /**\n",
              "   * Handle when an output is cleared or removed\n",
              "   */\n",
              "  function handleClearOutput(event, handle) {\n",
              "    var cell = handle.cell;\n",
              "\n",
              "    var id = cell.output_area._bokeh_element_id;\n",
              "    var server_id = cell.output_area._bokeh_server_id;\n",
              "    // Clean up Bokeh references\n",
              "    if (id != null && id in Bokeh.index) {\n",
              "      Bokeh.index[id].model.document.clear();\n",
              "      delete Bokeh.index[id];\n",
              "    }\n",
              "\n",
              "    if (server_id !== undefined) {\n",
              "      // Clean up Bokeh references\n",
              "      var cmd = \"from bokeh.io.state import curstate; print(curstate().uuid_to_server['\" + server_id + \"'].get_sessions()[0].document.roots[0]._id)\";\n",
              "      cell.notebook.kernel.execute(cmd, {\n",
              "        iopub: {\n",
              "          output: function(msg) {\n",
              "            var id = msg.content.text.trim();\n",
              "            if (id in Bokeh.index) {\n",
              "              Bokeh.index[id].model.document.clear();\n",
              "              delete Bokeh.index[id];\n",
              "            }\n",
              "          }\n",
              "        }\n",
              "      });\n",
              "      // Destroy server and session\n",
              "      var cmd = \"import bokeh.io.notebook as ion; ion.destroy_server('\" + server_id + \"')\";\n",
              "      cell.notebook.kernel.execute(cmd);\n",
              "    }\n",
              "  }\n",
              "\n",
              "  /**\n",
              "   * Handle when a new output is added\n",
              "   */\n",
              "  function handleAddOutput(event, handle) {\n",
              "    var output_area = handle.output_area;\n",
              "    var output = handle.output;\n",
              "\n",
              "    // limit handleAddOutput to display_data with EXEC_MIME_TYPE content only\n",
              "    if ((output.output_type != \"display_data\") || (!Object.prototype.hasOwnProperty.call(output.data, EXEC_MIME_TYPE))) {\n",
              "      return\n",
              "    }\n",
              "\n",
              "    var toinsert = output_area.element.find(\".\" + CLASS_NAME.split(' ')[0]);\n",
              "\n",
              "    if (output.metadata[EXEC_MIME_TYPE][\"id\"] !== undefined) {\n",
              "      toinsert[toinsert.length - 1].firstChild.textContent = output.data[JS_MIME_TYPE];\n",
              "      // store reference to embed id on output_area\n",
              "      output_area._bokeh_element_id = output.metadata[EXEC_MIME_TYPE][\"id\"];\n",
              "    }\n",
              "    if (output.metadata[EXEC_MIME_TYPE][\"server_id\"] !== undefined) {\n",
              "      var bk_div = document.createElement(\"div\");\n",
              "      bk_div.innerHTML = output.data[HTML_MIME_TYPE];\n",
              "      var script_attrs = bk_div.children[0].attributes;\n",
              "      for (var i = 0; i < script_attrs.length; i++) {\n",
              "        toinsert[toinsert.length - 1].firstChild.setAttribute(script_attrs[i].name, script_attrs[i].value);\n",
              "        toinsert[toinsert.length - 1].firstChild.textContent = bk_div.children[0].textContent\n",
              "      }\n",
              "      // store reference to server id on output_area\n",
              "      output_area._bokeh_server_id = output.metadata[EXEC_MIME_TYPE][\"server_id\"];\n",
              "    }\n",
              "  }\n",
              "\n",
              "  function register_renderer(events, OutputArea) {\n",
              "\n",
              "    function append_mime(data, metadata, element) {\n",
              "      // create a DOM node to render to\n",
              "      var toinsert = this.create_output_subarea(\n",
              "        metadata,\n",
              "        CLASS_NAME,\n",
              "        EXEC_MIME_TYPE\n",
              "      );\n",
              "      this.keyboard_manager.register_events(toinsert);\n",
              "      // Render to node\n",
              "      var props = {data: data, metadata: metadata[EXEC_MIME_TYPE]};\n",
              "      render(props, toinsert[toinsert.length - 1]);\n",
              "      element.append(toinsert);\n",
              "      return toinsert\n",
              "    }\n",
              "\n",
              "    /* Handle when an output is cleared or removed */\n",
              "    events.on('clear_output.CodeCell', handleClearOutput);\n",
              "    events.on('delete.Cell', handleClearOutput);\n",
              "\n",
              "    /* Handle when a new output is added */\n",
              "    events.on('output_added.OutputArea', handleAddOutput);\n",
              "\n",
              "    /**\n",
              "     * Register the mime type and append_mime function with output_area\n",
              "     */\n",
              "    OutputArea.prototype.register_mime_type(EXEC_MIME_TYPE, append_mime, {\n",
              "      /* Is output safe? */\n",
              "      safe: true,\n",
              "      /* Index of renderer in `output_area.display_order` */\n",
              "      index: 0\n",
              "    });\n",
              "  }\n",
              "\n",
              "  // register the mime type if in Jupyter Notebook environment and previously unregistered\n",
              "  if (root.Jupyter !== undefined) {\n",
              "    var events = require('base/js/events');\n",
              "    var OutputArea = require('notebook/js/outputarea').OutputArea;\n",
              "\n",
              "    if (OutputArea.prototype.mime_types().indexOf(EXEC_MIME_TYPE) == -1) {\n",
              "      register_renderer(events, OutputArea);\n",
              "    }\n",
              "  }\n",
              "\n",
              "  \n",
              "  if (typeof (root._bokeh_timeout) === \"undefined\" || force === true) {\n",
              "    root._bokeh_timeout = Date.now() + 5000;\n",
              "    root._bokeh_failed_load = false;\n",
              "  }\n",
              "\n",
              "  var NB_LOAD_WARNING = {'data': {'text/html':\n",
              "     \"<div style='background-color: #fdd'>\\n\"+\n",
              "     \"<p>\\n\"+\n",
              "     \"BokehJS does not appear to have successfully loaded. If loading BokehJS from CDN, this \\n\"+\n",
              "     \"may be due to a slow or bad network connection. Possible fixes:\\n\"+\n",
              "     \"</p>\\n\"+\n",
              "     \"<ul>\\n\"+\n",
              "     \"<li>re-rerun `output_notebook()` to attempt to load from CDN again, or</li>\\n\"+\n",
              "     \"<li>use INLINE resources instead, as so:</li>\\n\"+\n",
              "     \"</ul>\\n\"+\n",
              "     \"<code>\\n\"+\n",
              "     \"from bokeh.resources import INLINE\\n\"+\n",
              "     \"output_notebook(resources=INLINE)\\n\"+\n",
              "     \"</code>\\n\"+\n",
              "     \"</div>\"}};\n",
              "\n",
              "  function display_loaded() {\n",
              "    var el = document.getElementById(null);\n",
              "    if (el != null) {\n",
              "      el.textContent = \"BokehJS is loading...\";\n",
              "    }\n",
              "    if (root.Bokeh !== undefined) {\n",
              "      if (el != null) {\n",
              "        el.textContent = \"BokehJS \" + root.Bokeh.version + \" successfully loaded.\";\n",
              "      }\n",
              "    } else if (Date.now() < root._bokeh_timeout) {\n",
              "      setTimeout(display_loaded, 100)\n",
              "    }\n",
              "  }\n",
              "\n",
              "\n",
              "  function run_callbacks() {\n",
              "    try {\n",
              "      root._bokeh_onload_callbacks.forEach(function(callback) {\n",
              "        if (callback != null)\n",
              "          callback();\n",
              "      });\n",
              "    } finally {\n",
              "      delete root._bokeh_onload_callbacks\n",
              "    }\n",
              "    console.debug(\"Bokeh: all callbacks have finished\");\n",
              "  }\n",
              "\n",
              "  function load_libs(css_urls, js_urls, callback) {\n",
              "    if (css_urls == null) css_urls = [];\n",
              "    if (js_urls == null) js_urls = [];\n",
              "\n",
              "    root._bokeh_onload_callbacks.push(callback);\n",
              "    if (root._bokeh_is_loading > 0) {\n",
              "      console.debug(\"Bokeh: BokehJS is being loaded, scheduling callback at\", now());\n",
              "      return null;\n",
              "    }\n",
              "    if (js_urls == null || js_urls.length === 0) {\n",
              "      run_callbacks();\n",
              "      return null;\n",
              "    }\n",
              "    console.debug(\"Bokeh: BokehJS not loaded, scheduling load and callback at\", now());\n",
              "    root._bokeh_is_loading = css_urls.length + js_urls.length;\n",
              "\n",
              "    function on_load() {\n",
              "      root._bokeh_is_loading--;\n",
              "      if (root._bokeh_is_loading === 0) {\n",
              "        console.debug(\"Bokeh: all BokehJS libraries/stylesheets loaded\");\n",
              "        run_callbacks()\n",
              "      }\n",
              "    }\n",
              "\n",
              "    function on_error(url) {\n",
              "      console.error(\"failed to load \" + url);\n",
              "    }\n",
              "\n",
              "    for (let i = 0; i < css_urls.length; i++) {\n",
              "      const url = css_urls[i];\n",
              "      const element = document.createElement(\"link\");\n",
              "      element.onload = on_load;\n",
              "      element.onerror = on_error.bind(null, url);\n",
              "      element.rel = \"stylesheet\";\n",
              "      element.type = \"text/css\";\n",
              "      element.href = url;\n",
              "      console.debug(\"Bokeh: injecting link tag for BokehJS stylesheet: \", url);\n",
              "      document.body.appendChild(element);\n",
              "    }\n",
              "\n",
              "    const hashes = {\"https://cdn.bokeh.org/bokeh/release/bokeh-2.3.3.min.js\": \"dM3QQsP+wXdHg42wTqW85BjZQdLNNIXqlPw/BgKoExPmTG7ZLML4EGqLMfqHT6ON\", \"https://cdn.bokeh.org/bokeh/release/bokeh-tables-2.3.3.min.js\": \"8x57I4YuIfu8XyZfFo0XVr2WAT8EK4rh/uDe3wF7YuW2FNUSNEpJbsPaB1nJ2fz2\", \"https://cdn.bokeh.org/bokeh/release/bokeh-widgets-2.3.3.min.js\": \"3QTqdz9LyAm2i0sG5XTePsHec3UHWwVsrOL68SYRoAXsafvfAyqtQ+h440+qIBhS\"};\n",
              "\n",
              "    for (let i = 0; i < js_urls.length; i++) {\n",
              "      const url = js_urls[i];\n",
              "      const element = document.createElement('script');\n",
              "      element.onload = on_load;\n",
              "      element.onerror = on_error.bind(null, url);\n",
              "      element.async = false;\n",
              "      element.src = url;\n",
              "      if (url in hashes) {\n",
              "        element.crossOrigin = \"anonymous\";\n",
              "        element.integrity = \"sha384-\" + hashes[url];\n",
              "      }\n",
              "      console.debug(\"Bokeh: injecting script tag for BokehJS library: \", url);\n",
              "      document.head.appendChild(element);\n",
              "    }\n",
              "  };\n",
              "\n",
              "  function inject_raw_css(css) {\n",
              "    const element = document.createElement(\"style\");\n",
              "    element.appendChild(document.createTextNode(css));\n",
              "    document.body.appendChild(element);\n",
              "  }\n",
              "\n",
              "  \n",
              "  var js_urls = [\"https://cdn.bokeh.org/bokeh/release/bokeh-2.3.3.min.js\", \"https://cdn.bokeh.org/bokeh/release/bokeh-widgets-2.3.3.min.js\", \"https://cdn.bokeh.org/bokeh/release/bokeh-tables-2.3.3.min.js\"];\n",
              "  var css_urls = [];\n",
              "  \n",
              "\n",
              "  var inline_js = [\n",
              "    function(Bokeh) {\n",
              "      Bokeh.set_log_level(\"info\");\n",
              "    },\n",
              "    function(Bokeh) {\n",
              "    \n",
              "    \n",
              "    }\n",
              "  ];\n",
              "\n",
              "  function run_inline_js() {\n",
              "    \n",
              "    if (root.Bokeh !== undefined || force === true) {\n",
              "      \n",
              "    for (var i = 0; i < inline_js.length; i++) {\n",
              "      inline_js[i].call(root, root.Bokeh);\n",
              "    }\n",
              "    } else if (Date.now() < root._bokeh_timeout) {\n",
              "      setTimeout(run_inline_js, 100);\n",
              "    } else if (!root._bokeh_failed_load) {\n",
              "      console.log(\"Bokeh: BokehJS failed to load within specified timeout.\");\n",
              "      root._bokeh_failed_load = true;\n",
              "    } else if (force !== true) {\n",
              "      var cell = $(document.getElementById(null)).parents('.cell').data().cell;\n",
              "      cell.output_area.append_execute_result(NB_LOAD_WARNING)\n",
              "    }\n",
              "\n",
              "  }\n",
              "\n",
              "  if (root._bokeh_is_loading === 0) {\n",
              "    console.debug(\"Bokeh: BokehJS loaded, going straight to plotting\");\n",
              "    run_inline_js();\n",
              "  } else {\n",
              "    load_libs(css_urls, js_urls, function() {\n",
              "      console.debug(\"Bokeh: BokehJS plotting callback run at\", now());\n",
              "      run_inline_js();\n",
              "    });\n",
              "  }\n",
              "}(window));"
            ],
            "application/vnd.bokehjs_load.v0+json": "\n(function(root) {\n  function now() {\n    return new Date();\n  }\n\n  var force = true;\n\n  if (typeof root._bokeh_onload_callbacks === \"undefined\" || force === true) {\n    root._bokeh_onload_callbacks = [];\n    root._bokeh_is_loading = undefined;\n  }\n\n  \n\n  \n  if (typeof (root._bokeh_timeout) === \"undefined\" || force === true) {\n    root._bokeh_timeout = Date.now() + 5000;\n    root._bokeh_failed_load = false;\n  }\n\n  var NB_LOAD_WARNING = {'data': {'text/html':\n     \"<div style='background-color: #fdd'>\\n\"+\n     \"<p>\\n\"+\n     \"BokehJS does not appear to have successfully loaded. If loading BokehJS from CDN, this \\n\"+\n     \"may be due to a slow or bad network connection. Possible fixes:\\n\"+\n     \"</p>\\n\"+\n     \"<ul>\\n\"+\n     \"<li>re-rerun `output_notebook()` to attempt to load from CDN again, or</li>\\n\"+\n     \"<li>use INLINE resources instead, as so:</li>\\n\"+\n     \"</ul>\\n\"+\n     \"<code>\\n\"+\n     \"from bokeh.resources import INLINE\\n\"+\n     \"output_notebook(resources=INLINE)\\n\"+\n     \"</code>\\n\"+\n     \"</div>\"}};\n\n  function display_loaded() {\n    var el = document.getElementById(null);\n    if (el != null) {\n      el.textContent = \"BokehJS is loading...\";\n    }\n    if (root.Bokeh !== undefined) {\n      if (el != null) {\n        el.textContent = \"BokehJS \" + root.Bokeh.version + \" successfully loaded.\";\n      }\n    } else if (Date.now() < root._bokeh_timeout) {\n      setTimeout(display_loaded, 100)\n    }\n  }\n\n\n  function run_callbacks() {\n    try {\n      root._bokeh_onload_callbacks.forEach(function(callback) {\n        if (callback != null)\n          callback();\n      });\n    } finally {\n      delete root._bokeh_onload_callbacks\n    }\n    console.debug(\"Bokeh: all callbacks have finished\");\n  }\n\n  function load_libs(css_urls, js_urls, callback) {\n    if (css_urls == null) css_urls = [];\n    if (js_urls == null) js_urls = [];\n\n    root._bokeh_onload_callbacks.push(callback);\n    if (root._bokeh_is_loading > 0) {\n      console.debug(\"Bokeh: BokehJS is being loaded, scheduling callback at\", now());\n      return null;\n    }\n    if (js_urls == null || js_urls.length === 0) {\n      run_callbacks();\n      return null;\n    }\n    console.debug(\"Bokeh: BokehJS not loaded, scheduling load and callback at\", now());\n    root._bokeh_is_loading = css_urls.length + js_urls.length;\n\n    function on_load() {\n      root._bokeh_is_loading--;\n      if (root._bokeh_is_loading === 0) {\n        console.debug(\"Bokeh: all BokehJS libraries/stylesheets loaded\");\n        run_callbacks()\n      }\n    }\n\n    function on_error(url) {\n      console.error(\"failed to load \" + url);\n    }\n\n    for (let i = 0; i < css_urls.length; i++) {\n      const url = css_urls[i];\n      const element = document.createElement(\"link\");\n      element.onload = on_load;\n      element.onerror = on_error.bind(null, url);\n      element.rel = \"stylesheet\";\n      element.type = \"text/css\";\n      element.href = url;\n      console.debug(\"Bokeh: injecting link tag for BokehJS stylesheet: \", url);\n      document.body.appendChild(element);\n    }\n\n    const hashes = {\"https://cdn.bokeh.org/bokeh/release/bokeh-2.3.3.min.js\": \"dM3QQsP+wXdHg42wTqW85BjZQdLNNIXqlPw/BgKoExPmTG7ZLML4EGqLMfqHT6ON\", \"https://cdn.bokeh.org/bokeh/release/bokeh-tables-2.3.3.min.js\": \"8x57I4YuIfu8XyZfFo0XVr2WAT8EK4rh/uDe3wF7YuW2FNUSNEpJbsPaB1nJ2fz2\", \"https://cdn.bokeh.org/bokeh/release/bokeh-widgets-2.3.3.min.js\": \"3QTqdz9LyAm2i0sG5XTePsHec3UHWwVsrOL68SYRoAXsafvfAyqtQ+h440+qIBhS\"};\n\n    for (let i = 0; i < js_urls.length; i++) {\n      const url = js_urls[i];\n      const element = document.createElement('script');\n      element.onload = on_load;\n      element.onerror = on_error.bind(null, url);\n      element.async = false;\n      element.src = url;\n      if (url in hashes) {\n        element.crossOrigin = \"anonymous\";\n        element.integrity = \"sha384-\" + hashes[url];\n      }\n      console.debug(\"Bokeh: injecting script tag for BokehJS library: \", url);\n      document.head.appendChild(element);\n    }\n  };\n\n  function inject_raw_css(css) {\n    const element = document.createElement(\"style\");\n    element.appendChild(document.createTextNode(css));\n    document.body.appendChild(element);\n  }\n\n  \n  var js_urls = [\"https://cdn.bokeh.org/bokeh/release/bokeh-2.3.3.min.js\", \"https://cdn.bokeh.org/bokeh/release/bokeh-widgets-2.3.3.min.js\", \"https://cdn.bokeh.org/bokeh/release/bokeh-tables-2.3.3.min.js\"];\n  var css_urls = [];\n  \n\n  var inline_js = [\n    function(Bokeh) {\n      Bokeh.set_log_level(\"info\");\n    },\n    function(Bokeh) {\n    \n    \n    }\n  ];\n\n  function run_inline_js() {\n    \n    if (root.Bokeh !== undefined || force === true) {\n      \n    for (var i = 0; i < inline_js.length; i++) {\n      inline_js[i].call(root, root.Bokeh);\n    }\n    } else if (Date.now() < root._bokeh_timeout) {\n      setTimeout(run_inline_js, 100);\n    } else if (!root._bokeh_failed_load) {\n      console.log(\"Bokeh: BokehJS failed to load within specified timeout.\");\n      root._bokeh_failed_load = true;\n    } else if (force !== true) {\n      var cell = $(document.getElementById(null)).parents('.cell').data().cell;\n      cell.output_area.append_execute_result(NB_LOAD_WARNING)\n    }\n\n  }\n\n  if (root._bokeh_is_loading === 0) {\n    console.debug(\"Bokeh: BokehJS loaded, going straight to plotting\");\n    run_inline_js();\n  } else {\n    load_libs(css_urls, js_urls, function() {\n      console.debug(\"Bokeh: BokehJS plotting callback run at\", now());\n      run_inline_js();\n    });\n  }\n}(window));"
          },
          "metadata": {}
        },
        {
          "output_type": "display_data",
          "data": {
            "text/html": [
              "\n",
              "\n",
              "\n",
              "\n",
              "\n",
              "\n",
              "  <div class=\"bk-root\" id=\"c356e54f-f4db-4dc7-8335-40c36936c21c\" data-root-id=\"1002\"></div>\n"
            ]
          },
          "metadata": {}
        },
        {
          "output_type": "display_data",
          "data": {
            "application/javascript": [
              "(function(root) {\n",
              "  function embed_document(root) {\n",
              "    \n",
              "  var docs_json = {\"0e2b46b4-3976-4d1c-9eee-e066df6ea709\":{\"defs\":[],\"roots\":{\"references\":[{\"attributes\":{\"below\":[{\"id\":\"1011\"}],\"center\":[{\"id\":\"1014\"},{\"id\":\"1018\"}],\"height\":200,\"left\":[{\"id\":\"1015\"}],\"renderers\":[{\"id\":\"1038\"}],\"title\":{\"id\":\"1040\"},\"toolbar\":{\"id\":\"1025\"},\"width\":500,\"x_range\":{\"id\":\"1003\"},\"x_scale\":{\"id\":\"1007\"},\"y_range\":{\"id\":\"1005\"},\"y_scale\":{\"id\":\"1009\"}},\"id\":\"1002\",\"subtype\":\"Figure\",\"type\":\"Plot\"},{\"attributes\":{\"axis\":{\"id\":\"1015\"},\"dimension\":1,\"ticker\":{\"id\":\"1033\"}},\"id\":\"1018\",\"type\":\"Grid\"},{\"attributes\":{\"bottom\":{\"field\":\"bottom\"},\"fill_alpha\":{\"field\":\"fill_alpha\"},\"fill_color\":{\"value\":\"#d53e4f\"},\"left\":{\"field\":\"start_time\"},\"right\":{\"field\":\"end_time\"},\"top\":{\"field\":\"top\"}},\"id\":\"1036\",\"type\":\"Quad\"},{\"attributes\":{\"axis_label\":\"pitch (MIDI)\",\"formatter\":{\"id\":\"1043\"},\"major_label_policy\":{\"id\":\"1042\"},\"ticker\":{\"id\":\"1031\"}},\"id\":\"1015\",\"type\":\"LinearAxis\"},{\"attributes\":{},\"id\":\"1043\",\"type\":\"BasicTickFormatter\"},{\"attributes\":{},\"id\":\"1049\",\"type\":\"Selection\"},{\"attributes\":{},\"id\":\"1042\",\"type\":\"AllLabels\"},{\"attributes\":{},\"id\":\"1005\",\"type\":\"DataRange1d\"},{\"attributes\":{},\"id\":\"1040\",\"type\":\"Title\"},{\"attributes\":{},\"id\":\"1003\",\"type\":\"DataRange1d\"},{\"attributes\":{},\"id\":\"1007\",\"type\":\"LinearScale\"},{\"attributes\":{\"interval\":12},\"id\":\"1031\",\"type\":\"SingleIntervalTicker\"},{\"attributes\":{\"callback\":null,\"tooltips\":[[\"pitch\",\"@pitch\"],[\"program\",\"@program\"],[\"velo\",\"@velocity\"],[\"duration\",\"@duration\"],[\"start_time\",\"@start_time\"],[\"end_time\",\"@end_time\"],[\"velocity\",\"@velocity\"],[\"fill_alpha\",\"@fill_alpha\"]]},\"id\":\"1019\",\"type\":\"HoverTool\"},{\"attributes\":{\"data_source\":{\"id\":\"1034\"},\"glyph\":{\"id\":\"1036\"},\"hover_glyph\":null,\"muted_glyph\":null,\"nonselection_glyph\":{\"id\":\"1037\"},\"view\":{\"id\":\"1039\"}},\"id\":\"1038\",\"type\":\"GlyphRenderer\"},{\"attributes\":{},\"id\":\"1020\",\"type\":\"PanTool\"},{\"attributes\":{},\"id\":\"1009\",\"type\":\"LinearScale\"},{\"attributes\":{\"bottom\":{\"field\":\"bottom\"},\"fill_alpha\":{\"value\":0.1},\"fill_color\":{\"value\":\"#d53e4f\"},\"left\":{\"field\":\"start_time\"},\"line_alpha\":{\"value\":0.1},\"right\":{\"field\":\"end_time\"},\"top\":{\"field\":\"top\"}},\"id\":\"1037\",\"type\":\"Quad\"},{\"attributes\":{\"overlay\":{\"id\":\"1024\"}},\"id\":\"1021\",\"type\":\"BoxZoomTool\"},{\"attributes\":{\"source\":{\"id\":\"1034\"}},\"id\":\"1039\",\"type\":\"CDSView\"},{\"attributes\":{\"data\":{\"bottom\":{\"__ndarray__\":\"zczMzMzMQUDNzMzMzMxHQM3MzMzMTENAzczMzMxMRUDNzMzMzExDQM3MzMzMzEdAzczMzMzMR0DNzMzMzMxNQM3MzMzMTElAzczMzMxMS0DNzMzMzExJQM3MzMzMzE1AzczMzMzMTUBmZmZmZuZRQM3MzMzMTE9AZmZmZmamUEDNzMzMzMxBQM3MzMzMzEdAzczMzMxMREDNzMzMzMxFQM3MzMzMTERAzczMzMzMR0DNzMzMzMxHQM3MzMzMzE1AzczMzMxMSkDNzMzMzMxLQM3MzMzMTEpAzczMzMzMTUDNzMzMzMxNQGZmZmZm5lFAZmZmZmYmUEBmZmZmZuZQQM3MzMzMzEJAzczMzMzMSEDNzMzMzExFQM3MzMzMTEdAzczMzMxMRUDNzMzMzMxIQM3MzMzMzEhAzczMzMzMTkDNzMzMzExLQM3MzMzMTE1AzczMzMxMS0DNzMzMzMxOQM3MzMzMzE5AZmZmZmZmUkBmZmZmZqZQQGZmZmZmplFAzczMzMzMQUDNzMzMzExJQM3MzMzMTEVAzczMzMzMR0DNzMzMzExFQM3MzMzMTElAzczMzMzMR0DNzMzMzExPQM3MzMzMTEtAzczMzMzMTUDNzMzMzExLQM3MzMzMTE9AzczMzMzMTUBmZmZmZqZSQGZmZmZmplBAZmZmZmbmUUDNzMzMzMxBQM3MzMzMzEdAzczMzMxMQ0DNzMzMzExFQM3MzMzMTENAzczMzMzMR0DNzMzMzMxHQM3MzMzMzE1AzczMzMxMSUDNzMzMzExLQM3MzMzMTElAzczMzMzMTUDNzMzMzMxNQGZmZmZm5lFAzczMzMxMT0BmZmZmZqZQQM3MzMzMzEFAzczMzMzMR0DNzMzMzExEQM3MzMzMzEVAzczMzMxMREDNzMzMzMxHQM3MzMzMzEdAzczMzMzMTUDNzMzMzExKQM3MzMzMzEtAzczMzMxMSkDNzMzMzMxNQM3MzMzMzE1AZmZmZmbmUUBmZmZmZiZQQGZmZmZm5lBAzczMzMzMQkDNzMzMzMxIQM3MzMzMTEVAzczMzMxMR0DNzMzMzExFQM3MzMzMzEhAzczMzMzMSEDNzMzMzMxOQM3MzMzMTEtAzczMzMxMTUDNzMzMzExLQM3MzMzMzE5AzczMzMzMTkBmZmZmZmZSQGZmZmZmplBAZmZmZmamUUDNzMzMzMxBQM3MzMzMTElAzczMzMxMRUDNzMzMzMxHQM3MzMzMTEVAzczMzMxMSUDNzMzMzMxHQM3MzMzMTE9AzczMzMxMS0DNzMzMzMxNQM3MzMzMTEtAzczMzMxMT0DNzMzMzMxNQGZmZmZmplJAZmZmZmamUEBmZmZmZuZRQA==\",\"dtype\":\"float64\",\"order\":\"little\",\"shape\":[128]},\"duration\":{\"__ndarray__\":\"qqqqqqqqtj+qqqqqqqq2P6iqqqqqqrY/qKqqqqqqtj+oqqqqqqq2P6iqqqqqqrY/qKqqqqqqtj+oqqqqqqq2P6CqqqqqqrY/oKqqqqqqtj+gqqqqqqq2P6CqqqqqqrY/oKqqqqqqtj+gqqqqqqq2P6CqqqqqqrY/oKqqqqqqtj+gqqqqqqq2P6CqqqqqqrY/oKqqqqqqtj+gqqqqqqq2P6CqqqqqqrY/oKqqqqqqtj+gqqqqqqq2P6CqqqqqqrY/oKqqqqqqtj+gqqqqqqq2P6CqqqqqqrY/oKqqqqqqtj+gqqqqqqq2P6CqqqqqqrY/oKqqqqqqtj+gqqqqqqq2P4CqqqqqqrY/gKqqqqqqtj+Aqqqqqqq2P4CqqqqqqrY/gKqqqqqqtj+Aqqqqqqq2P4CqqqqqqrY/gKqqqqqqtj+Aqqqqqqq2P4CqqqqqqrY/gKqqqqqqtj+Aqqqqqqq2P4CqqqqqqrY/gKqqqqqqtj+Aqqqqqqq2P4CqqqqqqrY/gKqqqqqqtj+Aqqqqqqq2P4CqqqqqqrY/gKqqqqqqtj+Aqqqqqqq2P4CqqqqqqrY/gKqqqqqqtj+Aqqqqqqq2P4CqqqqqqrY/gKqqqqqqtj+Aqqqqqqq2P4CqqqqqqrY/gKqqqqqqtj+Aqqqqqqq2P4CqqqqqqrY/gKqqqqqqtj+Aqqqqqqq2P4CqqqqqqrY/gKqqqqqqtj+Aqqqqqqq2P4CqqqqqqrY/gKqqqqqqtj+Aqqqqqqq2P4CqqqqqqrY/gKqqqqqqtj+Aqqqqqqq2P4CqqqqqqrY/gKqqqqqqtj+Aqqqqqqq2P4CqqqqqqrY/gKqqqqqqtj+Aqqqqqqq2P4CqqqqqqrY/gKqqqqqqtj+Aqqqqqqq2P4CqqqqqqrY/gKqqqqqqtj+Aqqqqqqq2P4CqqqqqqrY/gKqqqqqqtj+Aqqqqqqq2P4CqqqqqqrY/gKqqqqqqtj+Aqqqqqqq2P4CqqqqqqrY/gKqqqqqqtj+Aqqqqqqq2P4CqqqqqqrY/gKqqqqqqtj+Aqqqqqqq2P4CqqqqqqrY/gKqqqqqqtj+Aqqqqqqq2P4CqqqqqqrY/gKqqqqqqtj+Aqqqqqqq2P4CqqqqqqrY/gKqqqqqqtj+Aqqqqqqq2P4CqqqqqqrY/gKqqqqqqtj+Aqqqqqqq2P4CqqqqqqrY/gKqqqqqqtj+Aqqqqqqq2P4CqqqqqqrY/gKqqqqqqtj+Aqqqqqqq2P4CqqqqqqrY/gKqqqqqqtj+Aqqqqqqq2P4CqqqqqqrY/gKqqqqqqtj+Aqqqqqqq2P4CqqqqqqrY/gKqqqqqqtj+Aqqqqqqq2P4CqqqqqqrY/gKqqqqqqtj+Aqqqqqqq2Pw==\",\"dtype\":\"float64\",\"order\":\"little\",\"shape\":[128]},\"end_time\":{\"__ndarray__\":\"qqqqqqqqtj9VVVVVVVXLP6qqqqqqqtU/qqqqqqqq3T9VVVVVVdXiP1VVVVVV1eY/VVVVVVXV6j9VVVVVVdXuP6qqqqqqavE/qqqqqqpq8z+qqqqqqmr1P6qqqqqqavc/qqqqqqpq+T+qqqqqqmr7P6qqqqqqav0/qqqqqqpq/z9VVVVVVbUAQFVVVVVVtQFAVVVVVVW1AkBVVVVVVbUDQFVVVVVVtQRAVVVVVVW1BUBVVVVVVbUGQFVVVVVVtQdAVVVVVVW1CEBVVVVVVbUJQFVVVVVVtQpAVVVVVVW1C0BVVVVVVbUMQFVVVVVVtQ1AVVVVVVW1DkBVVVVVVbUPQKqqqqqqWhBAqqqqqqraEECqqqqqqloRQKqqqqqq2hFAqqqqqqpaEkCqqqqqqtoSQKqqqqqqWhNAqqqqqqraE0CqqqqqqloUQKqqqqqq2hRAqqqqqqpaFUCqqqqqqtoVQKqqqqqqWhZAqqqqqqraFkCqqqqqqloXQKqqqqqq2hdAqqqqqqpaGECqqqqqqtoYQKqqqqqqWhlAqqqqqqraGUCqqqqqqloaQKqqqqqq2hpAqqqqqqpaG0CqqqqqqtobQKqqqqqqWhxAqqqqqqraHECqqqqqqlodQKqqqqqq2h1AqqqqqqpaHkCqqqqqqtoeQKqqqqqqWh9AqqqqqqraH0BVVVVVVS0gQFVVVVVVbSBAVVVVVVWtIEBVVVVVVe0gQFVVVVVVLSFAVVVVVVVtIUBVVVVVVa0hQFVVVVVV7SFAVVVVVVUtIkBVVVVVVW0iQFVVVVVVrSJAVVVVVVXtIkBVVVVVVS0jQFVVVVVVbSNAVVVVVVWtI0BVVVVVVe0jQFVVVVVVLSRAVVVVVVVtJEBVVVVVVa0kQFVVVVVV7SRAVVVVVVUtJUBVVVVVVW0lQFVVVVVVrSVAVVVVVVXtJUBVVVVVVS0mQFVVVVVVbSZAVVVVVVWtJkBVVVVVVe0mQFVVVVVVLSdAVVVVVVVtJ0BVVVVVVa0nQFVVVVVV7SdAVVVVVVUtKEBVVVVVVW0oQFVVVVVVrShAVVVVVVXtKEBVVVVVVS0pQFVVVVVVbSlAVVVVVVWtKUBVVVVVVe0pQFVVVVVVLSpAVVVVVVVtKkBVVVVVVa0qQFVVVVVV7SpAVVVVVVUtK0BVVVVVVW0rQFVVVVVVrStAVVVVVVXtK0BVVVVVVS0sQFVVVVVVbSxAVVVVVVWtLEBVVVVVVe0sQFVVVVVVLS1AVVVVVVVtLUBVVVVVVa0tQFVVVVVV7S1AVVVVVVUtLkBVVVVVVW0uQFVVVVVVrS5AVVVVVVXtLkBVVVVVVS0vQFVVVVVVbS9AVVVVVVWtL0BVVVVVVe0vQA==\",\"dtype\":\"float64\",\"order\":\"little\",\"shape\":[128]},\"fill_alpha\":{\"__ndarray__\":\"AAAAAADA7z8AAAAAAMDvPwAAAAAAwO8/AAAAAADA7z8AAAAAAIDsPwAAAAAAwOs/AAAAAACA6T8AAAAAAIDvPwAAAAAAwO8/AAAAAACA7T8AAAAAAMDuPwAAAAAAgO0/AAAAAAAA7T8AAAAAAMDnPwAAAAAAwO8/AAAAAABA6j8AAAAAAMDvPwAAAAAAwO8/AAAAAADA6D8AAAAAAIDqPwAAAAAAwO8/AAAAAABA7j8AAAAAAIDnPwAAAAAAAOs/AAAAAABA7D8AAAAAAMDpPwAAAAAAwO8/AAAAAADA7z8AAAAAAIDsPwAAAAAAwO0/AAAAAAAA6z8AAAAAAIDpPwAAAAAAgOc/AAAAAABA6D8AAAAAAMDrPwAAAAAAwO4/AAAAAAAA7z8AAAAAAADrPwAAAAAAwO8/AAAAAADA7z8AAAAAAMDvPwAAAAAAAOk/AAAAAABA7T8AAAAAAMDvPwAAAAAAwO8/AAAAAACA7z8AAAAAAMDqPwAAAAAAwO8/AAAAAAAA7D8AAAAAAMDvPwAAAAAAAOw/AAAAAABA6z8AAAAAAMDvPwAAAAAAwO8/AAAAAACA6T8AAAAAAMDvPwAAAAAAwO8/AAAAAADA6z8AAAAAAEDsPwAAAAAAwOo/AAAAAABA7D8AAAAAAADrPwAAAAAAQO4/AAAAAADA7z8AAAAAAMDvPwAAAAAAgO0/AAAAAADA6j8AAAAAAIDuPwAAAAAAwOg/AAAAAADA7z8AAAAAAMDvPwAAAAAAwO8/AAAAAADA7z8AAAAAAIDrPwAAAAAAwO8/AAAAAADA7z8AAAAAAADvPwAAAAAAwO8/AAAAAADA7z8AAAAAAADtPwAAAAAAwO8/AAAAAADA7D8AAAAAAEDvPwAAAAAAgOk/AAAAAABA6T8AAAAAAEDvPwAAAAAAgOo/AAAAAADA7z8AAAAAAMDvPwAAAAAAQOs/AAAAAADA6D8AAAAAAADuPwAAAAAAgO4/AAAAAACA6j8AAAAAAADpPwAAAAAAgO0/AAAAAADA7z8AAAAAAADqPwAAAAAAwOw/AAAAAACA7j8AAAAAAMDvPwAAAAAAwO8/AAAAAADA7z8AAAAAAADvPwAAAAAAwO8/AAAAAACA6T8AAAAAAEDsPwAAAAAAgOk/AAAAAACA6j8AAAAAAIDpPwAAAAAAgOg/AAAAAADA7z8AAAAAAIDsPwAAAAAAwO8/AAAAAADA7z8AAAAAAMDtPwAAAAAAgOs/AAAAAACA7T8AAAAAAADoPwAAAAAAAOo/AAAAAADA7z8AAAAAAIDpPwAAAAAAwO8/AAAAAABA7j8AAAAAAEDpPwAAAAAAwOg/AAAAAACA6j8AAAAAAMDvPw==\",\"dtype\":\"float64\",\"order\":\"little\",\"shape\":[128]},\"index\":[0,1,2,3,4,5,6,7,8,9,10,11,12,13,14,15,16,17,18,19,20,21,22,23,24,25,26,27,28,29,30,31,32,33,34,35,36,37,38,39,40,41,42,43,44,45,46,47,48,49,50,51,52,53,54,55,56,57,58,59,60,61,62,63,64,65,66,67,68,69,70,71,72,73,74,75,76,77,78,79,80,81,82,83,84,85,86,87,88,89,90,91,92,93,94,95,96,97,98,99,100,101,102,103,104,105,106,107,108,109,110,111,112,113,114,115,116,117,118,119,120,121,122,123,124,125,126,127],\"instrument\":[0,0,0,0,0,0,0,0,0,0,0,0,0,0,0,0,0,0,0,0,0,0,0,0,0,0,0,0,0,0,0,0,0,0,0,0,0,0,0,0,0,0,0,0,0,0,0,0,0,0,0,0,0,0,0,0,0,0,0,0,0,0,0,0,0,0,0,0,0,0,0,0,0,0,0,0,0,0,0,0,0,0,0,0,0,0,0,0,0,0,0,0,0,0,0,0,0,0,0,0,0,0,0,0,0,0,0,0,0,0,0,0,0,0,0,0,0,0,0,0,0,0,0,0,0,0,0,0],\"pitch\":[36,48,39,43,39,48,48,60,51,55,51,60,60,72,63,67,36,48,41,44,41,48,48,60,53,56,53,60,60,72,65,68,38,50,43,47,43,50,50,62,55,59,55,62,62,74,67,71,36,51,43,48,43,51,48,63,55,60,55,63,60,75,67,72,36,48,39,43,39,48,48,60,51,55,51,60,60,72,63,67,36,48,41,44,41,48,48,60,53,56,53,60,60,72,65,68,38,50,43,47,43,50,50,62,55,59,55,62,62,74,67,71,36,51,43,48,43,51,48,63,55,60,55,63,60,75,67,72],\"program\":[0,0,0,0,0,0,0,0,0,0,0,0,0,0,0,0,0,0,0,0,0,0,0,0,0,0,0,0,0,0,0,0,0,0,0,0,0,0,0,0,0,0,0,0,0,0,0,0,0,0,0,0,0,0,0,0,0,0,0,0,0,0,0,0,0,0,0,0,0,0,0,0,0,0,0,0,0,0,0,0,0,0,0,0,0,0,0,0,0,0,0,0,0,0,0,0,0,0,0,0,0,0,0,0,0,0,0,0,0,0,0,0,0,0,0,0,0,0,0,0,0,0,0,0,0,0,0,0],\"start_time\":{\"__ndarray__\":\"AAAAAAAAAAAAAAAAAADAPwAAAAAAANA/AAAAAAAA2D8AAAAAAADgPwAAAAAAAOQ/AAAAAAAA6D8AAAAAAADsPwAAAAAAAPA/AAAAAAAA8j8AAAAAAAD0PwAAAAAAAPY/AAAAAAAA+D8AAAAAAAD6PwAAAAAAAPw/AAAAAAAA/j8AAAAAAAAAQAAAAAAAAAFAAAAAAAAAAkAAAAAAAAADQAAAAAAAAARAAAAAAAAABUAAAAAAAAAGQAAAAAAAAAdAAAAAAAAACEAAAAAAAAAJQAAAAAAAAApAAAAAAAAAC0AAAAAAAAAMQAAAAAAAAA1AAAAAAAAADkAAAAAAAAAPQAAAAAAAABBAAAAAAACAEEAAAAAAAAARQAAAAAAAgBFAAAAAAAAAEkAAAAAAAIASQAAAAAAAABNAAAAAAACAE0AAAAAAAAAUQAAAAAAAgBRAAAAAAAAAFUAAAAAAAIAVQAAAAAAAABZAAAAAAACAFkAAAAAAAAAXQAAAAAAAgBdAAAAAAAAAGEAAAAAAAIAYQAAAAAAAABlAAAAAAACAGUAAAAAAAAAaQAAAAAAAgBpAAAAAAAAAG0AAAAAAAIAbQAAAAAAAABxAAAAAAACAHEAAAAAAAAAdQAAAAAAAgB1AAAAAAAAAHkAAAAAAAIAeQAAAAAAAAB9AAAAAAACAH0AAAAAAAAAgQAAAAAAAQCBAAAAAAACAIEAAAAAAAMAgQAAAAAAAACFAAAAAAABAIUAAAAAAAIAhQAAAAAAAwCFAAAAAAAAAIkAAAAAAAEAiQAAAAAAAgCJAAAAAAADAIkAAAAAAAAAjQAAAAAAAQCNAAAAAAACAI0AAAAAAAMAjQAAAAAAAACRAAAAAAABAJEAAAAAAAIAkQAAAAAAAwCRAAAAAAAAAJUAAAAAAAEAlQAAAAAAAgCVAAAAAAADAJUAAAAAAAAAmQAAAAAAAQCZAAAAAAACAJkAAAAAAAMAmQAAAAAAAACdAAAAAAABAJ0AAAAAAAIAnQAAAAAAAwCdAAAAAAAAAKEAAAAAAAEAoQAAAAAAAgChAAAAAAADAKEAAAAAAAAApQAAAAAAAQClAAAAAAACAKUAAAAAAAMApQAAAAAAAACpAAAAAAABAKkAAAAAAAIAqQAAAAAAAwCpAAAAAAAAAK0AAAAAAAEArQAAAAAAAgCtAAAAAAADAK0AAAAAAAAAsQAAAAAAAQCxAAAAAAACALEAAAAAAAMAsQAAAAAAAAC1AAAAAAABALUAAAAAAAIAtQAAAAAAAwC1AAAAAAAAALkAAAAAAAEAuQAAAAAAAgC5AAAAAAADALkAAAAAAAAAvQAAAAAAAQC9AAAAAAACAL0AAAAAAAMAvQA==\",\"dtype\":\"float64\",\"order\":\"little\",\"shape\":[128]},\"top\":{\"__ndarray__\":\"MzMzMzMzQkAzMzMzMzNIQDMzMzMzs0NAMzMzMzOzRUAzMzMzM7NDQDMzMzMzM0hAMzMzMzMzSEAzMzMzMzNOQDMzMzMzs0lAMzMzMzOzS0AzMzMzM7NJQDMzMzMzM05AMzMzMzMzTkCamZmZmRlSQDMzMzMzs09AmpmZmZnZUEAzMzMzMzNCQDMzMzMzM0hAMzMzMzOzREAzMzMzMzNGQDMzMzMzs0RAMzMzMzMzSEAzMzMzMzNIQDMzMzMzM05AMzMzMzOzSkAzMzMzMzNMQDMzMzMzs0pAMzMzMzMzTkAzMzMzMzNOQJqZmZmZGVJAmpmZmZlZUECamZmZmRlRQDMzMzMzM0NAMzMzMzMzSUAzMzMzM7NFQDMzMzMzs0dAMzMzMzOzRUAzMzMzMzNJQDMzMzMzM0lAMzMzMzMzT0AzMzMzM7NLQDMzMzMzs01AMzMzMzOzS0AzMzMzMzNPQDMzMzMzM09AmpmZmZmZUkCamZmZmdlQQJqZmZmZ2VFAMzMzMzMzQkAzMzMzM7NJQDMzMzMzs0VAMzMzMzMzSEAzMzMzM7NFQDMzMzMzs0lAMzMzMzMzSEAzMzMzM7NPQDMzMzMzs0tAMzMzMzMzTkAzMzMzM7NLQDMzMzMzs09AMzMzMzMzTkCamZmZmdlSQJqZmZmZ2VBAmpmZmZkZUkAzMzMzMzNCQDMzMzMzM0hAMzMzMzOzQ0AzMzMzM7NFQDMzMzMzs0NAMzMzMzMzSEAzMzMzMzNIQDMzMzMzM05AMzMzMzOzSUAzMzMzM7NLQDMzMzMzs0lAMzMzMzMzTkAzMzMzMzNOQJqZmZmZGVJAMzMzMzOzT0CamZmZmdlQQDMzMzMzM0JAMzMzMzMzSEAzMzMzM7NEQDMzMzMzM0ZAMzMzMzOzREAzMzMzMzNIQDMzMzMzM0hAMzMzMzMzTkAzMzMzM7NKQDMzMzMzM0xAMzMzMzOzSkAzMzMzMzNOQDMzMzMzM05AmpmZmZkZUkCamZmZmVlQQJqZmZmZGVFAMzMzMzMzQ0AzMzMzMzNJQDMzMzMzs0VAMzMzMzOzR0AzMzMzM7NFQDMzMzMzM0lAMzMzMzMzSUAzMzMzMzNPQDMzMzMzs0tAMzMzMzOzTUAzMzMzM7NLQDMzMzMzM09AMzMzMzMzT0CamZmZmZlSQJqZmZmZ2VBAmpmZmZnZUUAzMzMzMzNCQDMzMzMzs0lAMzMzMzOzRUAzMzMzMzNIQDMzMzMzs0VAMzMzMzOzSUAzMzMzMzNIQDMzMzMzs09AMzMzMzOzS0AzMzMzMzNOQDMzMzMzs0tAMzMzMzOzT0AzMzMzMzNOQJqZmZmZ2VJAmpmZmZnZUECamZmZmRlSQA==\",\"dtype\":\"float64\",\"order\":\"little\",\"shape\":[128]},\"velocity\":[127,127,127,127,114,111,102,126,127,118,123,118,116,95,127,105,127,127,99,106,127,121,94,108,113,103,127,127,114,119,108,102,94,97,111,123,124,108,127,127,127,100,117,127,127,126,107,127,112,127,112,109,127,127,102,127,127,111,113,107,113,108,121,127,127,118,107,122,99,127,127,127,127,110,127,127,124,127,127,116,127,115,125,102,101,125,106,127,127,109,99,120,122,106,100,118,127,104,115,122,127,127,127,124,127,102,113,102,106,102,98,127,114,127,127,119,110,118,96,104,127,102,127,121,101,99,106,127]},\"selected\":{\"id\":\"1049\"},\"selection_policy\":{\"id\":\"1048\"}},\"id\":\"1034\",\"type\":\"ColumnDataSource\"},{\"attributes\":{\"axis_label\":\"time (sec)\",\"formatter\":{\"id\":\"1046\"},\"major_label_policy\":{\"id\":\"1045\"},\"ticker\":{\"id\":\"1012\"}},\"id\":\"1011\",\"type\":\"LinearAxis\"},{\"attributes\":{},\"id\":\"1022\",\"type\":\"ResetTool\"},{\"attributes\":{},\"id\":\"1045\",\"type\":\"AllLabels\"},{\"attributes\":{},\"id\":\"1048\",\"type\":\"UnionRenderers\"},{\"attributes\":{\"axis\":{\"id\":\"1011\"},\"ticker\":null},\"id\":\"1014\",\"type\":\"Grid\"},{\"attributes\":{},\"id\":\"1023\",\"type\":\"SaveTool\"},{\"attributes\":{\"bottom_units\":\"screen\",\"fill_alpha\":0.5,\"fill_color\":\"lightgrey\",\"left_units\":\"screen\",\"level\":\"overlay\",\"line_alpha\":1.0,\"line_color\":\"black\",\"line_dash\":[4,4],\"line_width\":2,\"right_units\":\"screen\",\"syncable\":false,\"top_units\":\"screen\"},\"id\":\"1024\",\"type\":\"BoxAnnotation\"},{\"attributes\":{},\"id\":\"1046\",\"type\":\"BasicTickFormatter\"},{\"attributes\":{},\"id\":\"1012\",\"type\":\"BasicTicker\"},{\"attributes\":{\"interval\":12},\"id\":\"1033\",\"type\":\"SingleIntervalTicker\"},{\"attributes\":{\"active_multi\":null,\"tools\":[{\"id\":\"1019\"},{\"id\":\"1020\"},{\"id\":\"1021\"},{\"id\":\"1022\"},{\"id\":\"1023\"}]},\"id\":\"1025\",\"type\":\"Toolbar\"}],\"root_ids\":[\"1002\"]},\"title\":\"Bokeh Application\",\"version\":\"2.3.3\"}};\n",
              "  var render_items = [{\"docid\":\"0e2b46b4-3976-4d1c-9eee-e066df6ea709\",\"root_ids\":[\"1002\"],\"roots\":{\"1002\":\"c356e54f-f4db-4dc7-8335-40c36936c21c\"}}];\n",
              "  root.Bokeh.embed.embed_items_notebook(docs_json, render_items);\n",
              "\n",
              "  }\n",
              "  if (root.Bokeh !== undefined) {\n",
              "    embed_document(root);\n",
              "  } else {\n",
              "    var attempts = 0;\n",
              "    var timer = setInterval(function(root) {\n",
              "      if (root.Bokeh !== undefined) {\n",
              "        clearInterval(timer);\n",
              "        embed_document(root);\n",
              "      } else {\n",
              "        attempts++;\n",
              "        if (attempts > 100) {\n",
              "          clearInterval(timer);\n",
              "          console.log(\"Bokeh: ERROR: Unable to run BokehJS code because BokehJS library is missing\");\n",
              "        }\n",
              "      }\n",
              "    }, 10, root)\n",
              "  }\n",
              "})(window);"
            ],
            "application/vnd.bokehjs_exec.v0+json": ""
          },
          "metadata": {
            "application/vnd.bokehjs_exec.v0+json": {
              "id": "1002"
            }
          }
        }
      ]
    },
    {
      "cell_type": "code",
      "source": [
        "number_of_random_instruments = 10"
      ],
      "metadata": {
        "id": "CMGm8Q4qXdXQ"
      },
      "execution_count": 13,
      "outputs": []
    },
    {
      "cell_type": "code",
      "source": [
        "pitchPreview = 60\n",
        "num = number_of_random_instruments\n",
        "pitches = [pitchPreview] * num\n",
        "latent_vector = model.generate_z(num)\n",
        "audio_notes = model.generate_samples_from_z(latent_vector, pitches)\n",
        "for i, audio_note in enumerate(audio_notes):\n",
        "   print(\"Instrument: {}\".format(i))\n",
        "   play(audio_note, sample_rate=16000)"
      ],
      "metadata": {
        "colab": {
          "base_uri": "https://localhost:8080/",
          "height": 788
        },
        "id": "Vz-O2fHXXf1k",
        "outputId": "5d75265d-a2cf-42c0-d559-0e26c8d79449"
      },
      "execution_count": 14,
      "outputs": [
        {
          "output_type": "stream",
          "name": "stdout",
          "text": [
            "generate_samples: generated 10 samples in 12.077441215515137s\n",
            "Instrument: 0\n"
          ]
        },
        {
          "output_type": "display_data",
          "data": {
            "text/plain": [
              "<IPython.core.display.HTML object>"
            ],
            "text/html": [
              "<div id=\"id_1\"> </div>"
            ]
          },
          "metadata": {}
        },
        {
          "output_type": "stream",
          "name": "stdout",
          "text": [
            "Instrument: 1\n"
          ]
        },
        {
          "output_type": "display_data",
          "data": {
            "text/plain": [
              "<IPython.core.display.HTML object>"
            ],
            "text/html": [
              "<div id=\"id_2\"> </div>"
            ]
          },
          "metadata": {}
        },
        {
          "output_type": "stream",
          "name": "stdout",
          "text": [
            "Instrument: 2\n"
          ]
        },
        {
          "output_type": "display_data",
          "data": {
            "text/plain": [
              "<IPython.core.display.HTML object>"
            ],
            "text/html": [
              "<div id=\"id_3\"> </div>"
            ]
          },
          "metadata": {}
        },
        {
          "output_type": "stream",
          "name": "stdout",
          "text": [
            "Instrument: 3\n"
          ]
        },
        {
          "output_type": "display_data",
          "data": {
            "text/plain": [
              "<IPython.core.display.HTML object>"
            ],
            "text/html": [
              "<div id=\"id_4\"> </div>"
            ]
          },
          "metadata": {}
        },
        {
          "output_type": "stream",
          "name": "stdout",
          "text": [
            "Instrument: 4\n"
          ]
        },
        {
          "output_type": "display_data",
          "data": {
            "text/plain": [
              "<IPython.core.display.HTML object>"
            ],
            "text/html": [
              "<div id=\"id_5\"> </div>"
            ]
          },
          "metadata": {}
        },
        {
          "output_type": "stream",
          "name": "stdout",
          "text": [
            "Instrument: 5\n"
          ]
        },
        {
          "output_type": "display_data",
          "data": {
            "text/plain": [
              "<IPython.core.display.HTML object>"
            ],
            "text/html": [
              "<div id=\"id_6\"> </div>"
            ]
          },
          "metadata": {}
        },
        {
          "output_type": "stream",
          "name": "stdout",
          "text": [
            "Instrument: 6\n"
          ]
        },
        {
          "output_type": "display_data",
          "data": {
            "text/plain": [
              "<IPython.core.display.HTML object>"
            ],
            "text/html": [
              "<div id=\"id_7\"> </div>"
            ]
          },
          "metadata": {}
        },
        {
          "output_type": "stream",
          "name": "stdout",
          "text": [
            "Instrument: 7\n"
          ]
        },
        {
          "output_type": "display_data",
          "data": {
            "text/plain": [
              "<IPython.core.display.HTML object>"
            ],
            "text/html": [
              "<div id=\"id_8\"> </div>"
            ]
          },
          "metadata": {}
        },
        {
          "output_type": "stream",
          "name": "stdout",
          "text": [
            "Instrument: 8\n"
          ]
        },
        {
          "output_type": "display_data",
          "data": {
            "text/plain": [
              "<IPython.core.display.HTML object>"
            ],
            "text/html": [
              "<div id=\"id_9\"> </div>"
            ]
          },
          "metadata": {}
        },
        {
          "output_type": "stream",
          "name": "stdout",
          "text": [
            "Instrument: 9\n"
          ]
        },
        {
          "output_type": "display_data",
          "data": {
            "text/plain": [
              "<IPython.core.display.HTML object>"
            ],
            "text/html": [
              "<div id=\"id_10\"> </div>"
            ]
          },
          "metadata": {}
        }
      ]
    },
    {
      "cell_type": "code",
      "source": [
        "instruments = [0, 2, 4, 0]\n",
        "times = [0, 0.3, 0.6, 1.0]\n",
        "times[0] = -0.001\n",
        "times[-1] = 1.0\n",
        "z_instruments = np.array([latent_vector[i] for i in instruments])\n",
        "t_instruments = np.array([notes['endTimes'][-1] * t for t in times])\n",
        "z_notes = gu.get_z_notes(notes['startTimes'], z_instruments, t_instruments)\n",
        "print('Generating {} samples...'.format(len(z_notes)))\n",
        "audio_notes = model.generate_samples_from_z(z_notes, notes['pitches'])"
      ],
      "metadata": {
        "colab": {
          "base_uri": "https://localhost:8080/"
        },
        "id": "x6s3eEgZXoX5",
        "outputId": "a1eff869-4062-4da9-f62e-c450b97fbd38"
      },
      "execution_count": null,
      "outputs": [
        {
          "output_type": "stream",
          "name": "stdout",
          "text": [
            "Generating 128 samples...\n"
          ]
        }
      ]
    },
    {
      "cell_type": "code",
      "source": [
        "def combine_notes(audio, start, end, velo, sr=16000):\n",
        "   numberOfNotes = len(audio)\n",
        "   clipLen = end.max() + 3.0\n",
        "   clip = np.zeros(int(clipLen) * sr)\n",
        "   for t_start, t_end, velocity, i in zip(start, end, velo, range(numberOfNotes)):\n",
        "     noteLen = t_end - t_start\n",
        "     env = createEnvelope(noteLen) \n",
        "     length = len(env)\n",
        "     audio_note = audio[i, :length] * env\n",
        "     audio_note /= audio_note.max()\n",
        "     audio_note *= (velocity / 127.0)\n",
        "     clipStart = int(t_start * sr)\n",
        "     clipEnd = int(clipStart + length)\n",
        "     clip[clipStart:clipEnd] += audio_note\n",
        "     clip /= audio.max()\n",
        "     clip /= 1.25\n",
        "   return clip"
      ],
      "metadata": {
        "id": "ydmmp-ceXB8g"
      },
      "execution_count": null,
      "outputs": []
    },
    {
      "cell_type": "code",
      "source": [
        "ac = combine_notes(audio_notes,\n",
        "                   notes['startTimes'],\n",
        "                   notes['endTimes'],\n",
        "                   notes['velocities'])\n",
        "\n",
        "play(ac, sample_rate=SR) \n",
        "print('CQT Spectrogram:')\n",
        "spectrogram(ac)"
      ],
      "metadata": {
        "id": "Qa1kfMwkbZP6"
      },
      "execution_count": null,
      "outputs": []
    }
  ]
}